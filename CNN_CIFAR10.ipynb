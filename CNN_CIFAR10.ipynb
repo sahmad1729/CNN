{
  "nbformat": 4,
  "nbformat_minor": 0,
  "metadata": {
    "colab": {
      "provenance": []
    },
    "kernelspec": {
      "name": "python3",
      "display_name": "Python 3"
    },
    "language_info": {
      "name": "python"
    }
  },
  "cells": [
    {
      "cell_type": "markdown",
      "source": [
        "Neural Network (No Convolution layers)"
      ],
      "metadata": {
        "id": "rgMgPBl75cMs"
      }
    },
    {
      "cell_type": "code",
      "source": [
        "import tensorflow as tf\n",
        "import matplotlib.pyplot as plt\n",
        "from sklearn.metrics import confusion_matrix , classification_report\n",
        "import numpy as np\n",
        "\n",
        "#importing the data\n",
        "(X_train, y_train), (X_test,y_test) = tf.keras.datasets.cifar10.load_data()\n",
        "\n",
        "y_train = y_train.reshape(-1,)\n",
        "y_test = y_test.reshape(-1,)\n",
        "\n",
        "#normalize the data\n",
        "X_train = X_train / 255.0\n",
        "X_test = X_test / 255.0\n",
        "\n",
        "#model\n",
        "model = tf.keras.models.Sequential()\n",
        "model.add(tf.keras.layers.Flatten())\n",
        "#first dense layer\n",
        "model.add(tf.keras.layers.Dense(64, activation = 'relu'))\n",
        "#second dense layer\n",
        "model.add(tf.keras.layers.Dense(32, activation = 'relu'))\n",
        "#output layer\n",
        "model.add(tf.keras.layers.Dense(10, activation = 'softmax'))\n",
        "\n",
        "model.compile(optimizer = 'adam', loss = 'sparse_categorical_crossentropy', metrics = ['accuracy'])\n",
        "\n",
        "#training\n",
        "model.fit(X_train, y_train, epochs = 2)\n",
        "\n",
        "#evaluation\n",
        "model.evaluate(X_test, y_test)\n",
        "\n",
        "#prediciton on test data\n",
        "y_pred = model.predict(X_test)\n",
        "y_pred = np.argmax(y_pred, axis = 1)\n",
        "\n",
        "print(\"Classification Report: \\n\", classification_report(y_test, y_pred))\n"
      ],
      "metadata": {
        "colab": {
          "base_uri": "https://localhost:8080/"
        },
        "id": "ElXgsX7X-DMM",
        "outputId": "23d85354-37ce-4e9b-f8d9-df9a282f3090"
      },
      "execution_count": null,
      "outputs": [
        {
          "output_type": "stream",
          "name": "stdout",
          "text": [
            "Epoch 1/2\n",
            "1563/1563 [==============================] - 22s 14ms/step - loss: 1.8945 - accuracy: 0.3145\n",
            "Epoch 2/2\n",
            "1563/1563 [==============================] - 23s 15ms/step - loss: 1.7012 - accuracy: 0.3885\n",
            "313/313 [==============================] - 2s 6ms/step - loss: 1.6317 - accuracy: 0.4177\n",
            "313/313 [==============================] - 2s 6ms/step\n",
            "Classification Report: \n",
            "               precision    recall  f1-score   support\n",
            "\n",
            "           0       0.50      0.42      0.46      1000\n",
            "           1       0.50      0.56      0.53      1000\n",
            "           2       0.32      0.10      0.15      1000\n",
            "           3       0.26      0.25      0.26      1000\n",
            "           4       0.37      0.34      0.35      1000\n",
            "           5       0.33      0.36      0.35      1000\n",
            "           6       0.44      0.51      0.47      1000\n",
            "           7       0.48      0.43      0.45      1000\n",
            "           8       0.45      0.66      0.54      1000\n",
            "           9       0.43      0.56      0.48      1000\n",
            "\n",
            "    accuracy                           0.42     10000\n",
            "   macro avg       0.41      0.42      0.40     10000\n",
            "weighted avg       0.41      0.42      0.40     10000\n",
            "\n"
          ]
        }
      ]
    },
    {
      "cell_type": "markdown",
      "source": [
        "Convolutional Neural Network"
      ],
      "metadata": {
        "id": "YCrHSnCCDT8J"
      }
    },
    {
      "cell_type": "code",
      "execution_count": null,
      "metadata": {
        "colab": {
          "base_uri": "https://localhost:8080/"
        },
        "id": "TDtbbVvv5agk",
        "outputId": "d823d1e7-57fa-4e8f-a628-ece9f31d4cb1"
      },
      "outputs": [
        {
          "output_type": "stream",
          "name": "stdout",
          "text": [
            "Epoch 1/2\n",
            "1563/1563 [==============================] - 91s 58ms/step - loss: 1.4157 - accuracy: 0.4883\n",
            "Epoch 2/2\n",
            "1563/1563 [==============================] - 90s 58ms/step - loss: 1.0170 - accuracy: 0.6419\n",
            "313/313 [==============================] - 5s 17ms/step - loss: 0.9685 - accuracy: 0.6584\n",
            "313/313 [==============================] - 5s 16ms/step\n",
            "Classification Report: \n",
            "               precision    recall  f1-score   support\n",
            "\n",
            "           0       0.73      0.68      0.71      1000\n",
            "           1       0.78      0.79      0.79      1000\n",
            "           2       0.57      0.58      0.57      1000\n",
            "           3       0.42      0.61      0.49      1000\n",
            "           4       0.72      0.47      0.57      1000\n",
            "           5       0.55      0.54      0.55      1000\n",
            "           6       0.71      0.78      0.75      1000\n",
            "           7       0.74      0.70      0.72      1000\n",
            "           8       0.70      0.82      0.75      1000\n",
            "           9       0.85      0.61      0.71      1000\n",
            "\n",
            "    accuracy                           0.66     10000\n",
            "   macro avg       0.68      0.66      0.66     10000\n",
            "weighted avg       0.68      0.66      0.66     10000\n",
            "\n"
          ]
        }
      ],
      "source": [
        "import tensorflow as tf\n",
        "import matplotlib.pyplot as plt\n",
        "from sklearn.metrics import confusion_matrix , classification_report\n",
        "import numpy as np\n",
        "\n",
        "#importing cifar10 data\n",
        "(X_train, y_train), (X_test, y_test) = tf.keras.datasets.cifar10.load_data()\n",
        "\n",
        "\n",
        "y_train = y_train.reshape(-1,)\n",
        "y_test = y_test.reshape(-1,)\n",
        "\n",
        "#Normalizing the data\n",
        "X_train = X_train / 255.0\n",
        "X_test = X_test / 255.0\n",
        "\n",
        "#Model\n",
        "cnn = tf.keras.models.Sequential()\n",
        "\n",
        "#first convolution layer\n",
        "cnn.add(tf.keras.layers.Conv2D(filters = 32, kernel_size = (3, 3), activation = 'relu', input_shape = (32, 32, 3)))\n",
        "#pooling\n",
        "cnn.add(tf.keras.layers.MaxPooling2D((2, 2)))\n",
        "#second convolution layer\n",
        "cnn.add(tf.keras.layers.Conv2D(filters = 64, kernel_size = (3, 3), activation = 'relu'))\n",
        "#pooling\n",
        "cnn.add(tf.keras.layers.MaxPooling2D((2, 2)))\n",
        "\n",
        "cnn.add(tf.keras.layers.Flatten())\n",
        "\n",
        "#first dense layer\n",
        "cnn.add(tf.keras.layers.Dense(64, activation = 'relu'))\n",
        "#second dense layer\n",
        "cnn.add(tf.keras.layers.Dense(32, activation = 'relu'))\n",
        "#output layer\n",
        "cnn.add(tf.keras.layers.Dense(10, activation = 'softmax'))\n",
        "\n",
        "cnn.compile(optimizer='adam', loss='sparse_categorical_crossentropy', metrics=['accuracy'])\n",
        "\n",
        "cnn.fit(X_train, y_train, epochs=2)\n",
        "\n",
        "cnn.evaluate(X_test, y_test)\n",
        "\n",
        "#prediciton on test data\n",
        "y_pred = cnn.predict(X_test)\n",
        "y_pred = np.argmax(y_pred, axis = 1)\n",
        "\n",
        "print(\"Classification Report: \\n\", classification_report(y_test, y_pred))"
      ]
    }
  ]
}